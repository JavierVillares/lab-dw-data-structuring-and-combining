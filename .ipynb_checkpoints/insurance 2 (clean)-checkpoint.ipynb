{
 "cells": [
  {
   "cell_type": "code",
   "execution_count": 1,
   "id": "61febb78",
   "metadata": {},
   "outputs": [],
   "source": [
    "# Your code here\n",
    "import pandas as pd\n",
    "url_2 = 'https://raw.githubusercontent.com/data-bootcamp-v4/data/main/file2.csv'\n",
    "df = pd.read_csv(url_2)"
   ]
  },
  {
   "cell_type": "code",
   "execution_count": 2,
   "id": "7b6155a9",
   "metadata": {},
   "outputs": [
    {
     "data": {
      "text/plain": [
       "(996, 11)"
      ]
     },
     "execution_count": 2,
     "metadata": {},
     "output_type": "execute_result"
    }
   ],
   "source": [
    "df.shape"
   ]
  },
  {
   "cell_type": "code",
   "execution_count": 3,
   "id": "2f86f2b5",
   "metadata": {},
   "outputs": [
    {
     "data": {
      "text/plain": [
       "Index(['Customer', 'ST', 'GENDER', 'Education', 'Customer Lifetime Value',\n",
       "       'Income', 'Monthly Premium Auto', 'Number of Open Complaints',\n",
       "       'Total Claim Amount', 'Policy Type', 'Vehicle Class'],\n",
       "      dtype='object')"
      ]
     },
     "execution_count": 3,
     "metadata": {},
     "output_type": "execute_result"
    }
   ],
   "source": []
  },
  {
   "cell_type": "code",
   "execution_count": 4,
   "id": "3e85f10f",
   "metadata": {},
   "outputs": [],
   "source": [
    "df.columns = df.columns.str.lower().str.replace(' ','_')"
   ]
  },
  {
   "cell_type": "code",
   "execution_count": 5,
   "id": "2632c72d",
   "metadata": {},
   "outputs": [
    {
     "data": {
      "text/plain": [
       "Index(['customer', 'state', 'gender', 'education', 'customer_lifetime_value',\n",
       "       'income', 'monthly_premium_auto', 'number_of_open_complaints',\n",
       "       'total_claim_amount', 'policy_type', 'vehicle_class'],\n",
       "      dtype='object')"
      ]
     },
     "execution_count": 5,
     "metadata": {},
     "output_type": "execute_result"
    }
   ],
   "source": [
    "df.rename(columns={'st': 'state'}, inplace=True)\n",
    "df.columns"
   ]
  },
  {
   "cell_type": "code",
   "execution_count": 6,
   "id": "45361a94",
   "metadata": {},
   "outputs": [
    {
     "name": "stdout",
     "output_type": "stream",
     "text": [
      "<class 'pandas.core.frame.DataFrame'>\n",
      "RangeIndex: 996 entries, 0 to 995\n",
      "Data columns (total 11 columns):\n",
      " #   Column                     Non-Null Count  Dtype  \n",
      "---  ------                     --------------  -----  \n",
      " 0   customer                   996 non-null    object \n",
      " 1   state                      996 non-null    object \n",
      " 2   gender                     991 non-null    object \n",
      " 3   education                  996 non-null    object \n",
      " 4   customer_lifetime_value    992 non-null    object \n",
      " 5   income                     996 non-null    int64  \n",
      " 6   monthly_premium_auto       996 non-null    int64  \n",
      " 7   number_of_open_complaints  996 non-null    object \n",
      " 8   total_claim_amount         996 non-null    float64\n",
      " 9   policy_type                996 non-null    object \n",
      " 10  vehicle_class              996 non-null    object \n",
      "dtypes: float64(1), int64(2), object(8)\n",
      "memory usage: 85.7+ KB\n"
     ]
    }
   ],
   "source": [
    "df.info()"
   ]
  },
  {
   "cell_type": "code",
   "execution_count": 7,
   "id": "5b937eb8",
   "metadata": {},
   "outputs": [],
   "source": [
    "df = df.drop(columns=['state'])"
   ]
  },
  {
   "cell_type": "code",
   "execution_count": 8,
   "id": "fdf550eb",
   "metadata": {},
   "outputs": [
    {
     "data": {
      "text/plain": [
       "array(['F', 'M', nan, 'female', 'Male'], dtype=object)"
      ]
     },
     "execution_count": 8,
     "metadata": {},
     "output_type": "execute_result"
    }
   ],
   "source": [
    "df['gender'].unique()"
   ]
  },
  {
   "cell_type": "code",
   "execution_count": 9,
   "id": "b970686e",
   "metadata": {},
   "outputs": [],
   "source": [
    "gender_mapping = {\n",
    "    'F': 'Female',\n",
    "    'M': 'Male',\n",
    "    'female': 'Female'\n",
    "}"
   ]
  },
  {
   "cell_type": "code",
   "execution_count": 10,
   "id": "dbc642cf",
   "metadata": {},
   "outputs": [
    {
     "data": {
      "text/plain": [
       "array(['Female', 'Male', nan], dtype=object)"
      ]
     },
     "execution_count": 10,
     "metadata": {},
     "output_type": "execute_result"
    }
   ],
   "source": [
    "df['gender'] = df['gender'].map(gender_mapping)\n",
    "df['gender'].unique()"
   ]
  },
  {
   "cell_type": "code",
   "execution_count": 11,
   "id": "4534bdbd",
   "metadata": {},
   "outputs": [
    {
     "data": {
      "text/plain": [
       "array(['Bachelor', 'Master', 'College', 'Doctor', 'Bachelors',\n",
       "       'High School or Below'], dtype=object)"
      ]
     },
     "execution_count": 11,
     "metadata": {},
     "output_type": "execute_result"
    }
   ],
   "source": [
    "df['education'].unique()"
   ]
  },
  {
   "cell_type": "code",
   "execution_count": 12,
   "id": "161002db",
   "metadata": {},
   "outputs": [],
   "source": [
    "education_mapping = {\n",
    "    'Bachelor': 'Bachelor',\n",
    "    'College': 'College',\n",
    "    'High School or Below': 'High School or Below',\n",
    "    'Master': 'Master',\n",
    "    'Doctor': 'Doctor',\n",
    "    'Bachelors': 'Bachelor'  \n",
    "}"
   ]
  },
  {
   "cell_type": "code",
   "execution_count": 13,
   "id": "0088241e",
   "metadata": {},
   "outputs": [
    {
     "data": {
      "text/plain": [
       "array(['Bachelor', 'Master', 'College', 'Doctor', 'High School or Below'],\n",
       "      dtype=object)"
      ]
     },
     "execution_count": 13,
     "metadata": {},
     "output_type": "execute_result"
    }
   ],
   "source": [
    "df['education'] = df['education'].map(education_mapping)\n",
    "df['education'].unique()"
   ]
  },
  {
   "cell_type": "code",
   "execution_count": 14,
   "id": "a4feb2c5",
   "metadata": {},
   "outputs": [
    {
     "data": {
      "text/html": [
       "<div>\n",
       "<style scoped>\n",
       "    .dataframe tbody tr th:only-of-type {\n",
       "        vertical-align: middle;\n",
       "    }\n",
       "\n",
       "    .dataframe tbody tr th {\n",
       "        vertical-align: top;\n",
       "    }\n",
       "\n",
       "    .dataframe thead th {\n",
       "        text-align: right;\n",
       "    }\n",
       "</style>\n",
       "<table border=\"1\" class=\"dataframe\">\n",
       "  <thead>\n",
       "    <tr style=\"text-align: right;\">\n",
       "      <th></th>\n",
       "      <th>customer</th>\n",
       "      <th>gender</th>\n",
       "      <th>education</th>\n",
       "      <th>customer_lifetime_value</th>\n",
       "      <th>income</th>\n",
       "      <th>monthly_premium_auto</th>\n",
       "      <th>number_of_open_complaints</th>\n",
       "      <th>total_claim_amount</th>\n",
       "      <th>policy_type</th>\n",
       "      <th>vehicle_class</th>\n",
       "    </tr>\n",
       "  </thead>\n",
       "  <tbody>\n",
       "    <tr>\n",
       "      <th>0</th>\n",
       "      <td>GS98873</td>\n",
       "      <td>Female</td>\n",
       "      <td>Bachelor</td>\n",
       "      <td>323912.47%</td>\n",
       "      <td>16061</td>\n",
       "      <td>88</td>\n",
       "      <td>1/0/00</td>\n",
       "      <td>633.6</td>\n",
       "      <td>Personal Auto</td>\n",
       "      <td>Four-Door Car</td>\n",
       "    </tr>\n",
       "    <tr>\n",
       "      <th>1</th>\n",
       "      <td>CW49887</td>\n",
       "      <td>Female</td>\n",
       "      <td>Master</td>\n",
       "      <td>462680.11%</td>\n",
       "      <td>79487</td>\n",
       "      <td>114</td>\n",
       "      <td>1/0/00</td>\n",
       "      <td>547.2</td>\n",
       "      <td>Special Auto</td>\n",
       "      <td>SUV</td>\n",
       "    </tr>\n",
       "    <tr>\n",
       "      <th>2</th>\n",
       "      <td>MY31220</td>\n",
       "      <td>Female</td>\n",
       "      <td>College</td>\n",
       "      <td>899704.02%</td>\n",
       "      <td>54230</td>\n",
       "      <td>112</td>\n",
       "      <td>1/0/00</td>\n",
       "      <td>537.6</td>\n",
       "      <td>Personal Auto</td>\n",
       "      <td>Two-Door Car</td>\n",
       "    </tr>\n",
       "    <tr>\n",
       "      <th>3</th>\n",
       "      <td>UH35128</td>\n",
       "      <td>Female</td>\n",
       "      <td>College</td>\n",
       "      <td>2580706.30%</td>\n",
       "      <td>71210</td>\n",
       "      <td>214</td>\n",
       "      <td>1/1/00</td>\n",
       "      <td>1027.2</td>\n",
       "      <td>Personal Auto</td>\n",
       "      <td>Luxury Car</td>\n",
       "    </tr>\n",
       "    <tr>\n",
       "      <th>4</th>\n",
       "      <td>WH52799</td>\n",
       "      <td>Female</td>\n",
       "      <td>College</td>\n",
       "      <td>380812.21%</td>\n",
       "      <td>94903</td>\n",
       "      <td>94</td>\n",
       "      <td>1/0/00</td>\n",
       "      <td>451.2</td>\n",
       "      <td>Corporate Auto</td>\n",
       "      <td>Two-Door Car</td>\n",
       "    </tr>\n",
       "  </tbody>\n",
       "</table>\n",
       "</div>"
      ],
      "text/plain": [
       "  customer  gender education customer_lifetime_value  income  \\\n",
       "0  GS98873  Female  Bachelor              323912.47%   16061   \n",
       "1  CW49887  Female    Master              462680.11%   79487   \n",
       "2  MY31220  Female   College              899704.02%   54230   \n",
       "3  UH35128  Female   College             2580706.30%   71210   \n",
       "4  WH52799  Female   College              380812.21%   94903   \n",
       "\n",
       "   monthly_premium_auto number_of_open_complaints  total_claim_amount  \\\n",
       "0                    88                    1/0/00               633.6   \n",
       "1                   114                    1/0/00               547.2   \n",
       "2                   112                    1/0/00               537.6   \n",
       "3                   214                    1/1/00              1027.2   \n",
       "4                    94                    1/0/00               451.2   \n",
       "\n",
       "      policy_type  vehicle_class  \n",
       "0   Personal Auto  Four-Door Car  \n",
       "1    Special Auto            SUV  \n",
       "2   Personal Auto   Two-Door Car  \n",
       "3   Personal Auto     Luxury Car  \n",
       "4  Corporate Auto   Two-Door Car  "
      ]
     },
     "execution_count": 14,
     "metadata": {},
     "output_type": "execute_result"
    }
   ],
   "source": [
    "df.head()"
   ]
  },
  {
   "cell_type": "code",
   "execution_count": 15,
   "id": "9dbd33bb",
   "metadata": {},
   "outputs": [],
   "source": [
    "#In Customer Lifetime Value, delete the % character\n",
    "df['customer_lifetime_value'] = df['customer_lifetime_value'].str.replace('%', '')# Your code here"
   ]
  },
  {
   "cell_type": "code",
   "execution_count": 16,
   "id": "2f5582c8",
   "metadata": {},
   "outputs": [
    {
     "data": {
      "text/plain": [
       "monthly_premium_auto\n",
       "66                      41\n",
       "71                      40\n",
       "61                      35\n",
       "67                      35\n",
       "72                      34\n",
       "                        ..\n",
       "182                      1\n",
       "183                      1\n",
       "186                      1\n",
       "188                      1\n",
       "7575                     1\n",
       "Name: count, Length: 126, dtype: int64"
      ]
     },
     "execution_count": 16,
     "metadata": {},
     "output_type": "execute_result"
    }
   ],
   "source": [
    "df[['monthly_premium_auto']].value_counts()"
   ]
  },
  {
   "cell_type": "code",
   "execution_count": 17,
   "id": "6a0eb8da",
   "metadata": {},
   "outputs": [
    {
     "data": {
      "text/plain": [
       "number_of_open_complaints\n",
       "     905\n",
       "2     43\n",
       "3     26\n",
       "4     16\n",
       "5      6\n",
       "Name: count, dtype: int64"
      ]
     },
     "execution_count": 17,
     "metadata": {},
     "output_type": "execute_result"
    }
   ],
   "source": [
    "#Number of open complaints has an incorrect format. \n",
    "#Look at the different values it takes with unique() and take the middle value.\n",
    "#As an example, 1/5/00 should be 5. \n",
    "df['number_of_open_complaints'] = df['number_of_open_complaints'].str.lstrip('1/')\n",
    "df['number_of_open_complaints'] = df['number_of_open_complaints'].str.rstrip('/00')\n",
    "df['number_of_open_complaints'].value_counts()\n",
    "#Number of open complaints is a string - remember you can use split() to deal with it and take the number you need. \n",
    "#Finally, since it should be numeric, cast the column to be in its proper type."
   ]
  },
  {
   "cell_type": "code",
   "execution_count": 18,
   "id": "2a1147f7",
   "metadata": {},
   "outputs": [
    {
     "data": {
      "text/plain": [
       "array([0, '3', '5', '2', '4'], dtype=object)"
      ]
     },
     "execution_count": 18,
     "metadata": {},
     "output_type": "execute_result"
    }
   ],
   "source": [
    "df['number_of_open_complaints'] = pd.DataFrame(df['number_of_open_complaints'])\n",
    "df['number_of_open_complaints'] = df['number_of_open_complaints'].replace('',0)\n",
    "df['number_of_open_complaints'].unique()"
   ]
  },
  {
   "cell_type": "code",
   "execution_count": 19,
   "id": "21ccec00",
   "metadata": {},
   "outputs": [
    {
     "data": {
      "text/plain": [
       "0       323912.47\n",
       "1       462680.11\n",
       "2       899704.02\n",
       "3      2580706.30\n",
       "4       380812.21\n",
       "          ...    \n",
       "991     847141.75\n",
       "992     543121.91\n",
       "993     568964.41\n",
       "994     368672.38\n",
       "995     399258.39\n",
       "Name: customer_lifetime_value, Length: 996, dtype: float64"
      ]
     },
     "execution_count": 19,
     "metadata": {},
     "output_type": "execute_result"
    }
   ],
   "source": [
    "#The data types of many columns in the dataset appear to be incorrect. \n",
    "#This could impact the accuracy of our analysis. To ensure accurate analysis, \n",
    "#we need to correct the data types of these columns. \n",
    "#Please update the data types of the columns as appropriate. \n",
    "#Your code here\n",
    "\n",
    "df['customer_lifetime_value'].unique\n",
    "df['customer_lifetime_value'] = df['customer_lifetime_value'].astype(float)\n",
    "df['customer_lifetime_value']\n",
    "#Customer lifetime value should be numeric"
   ]
  },
  {
   "cell_type": "code",
   "execution_count": 20,
   "id": "be9c07fd",
   "metadata": {},
   "outputs": [
    {
     "data": {
      "text/plain": [
       "0      0\n",
       "1      0\n",
       "2      0\n",
       "3      0\n",
       "4      0\n",
       "      ..\n",
       "991    0\n",
       "992    0\n",
       "993    0\n",
       "994    0\n",
       "995    0\n",
       "Name: number_of_open_complaints, Length: 996, dtype: int64"
      ]
     },
     "execution_count": 20,
     "metadata": {},
     "output_type": "execute_result"
    }
   ],
   "source": [
    "df['number_of_open_complaints'] = df['number_of_open_complaints'].astype(int)\n",
    "df['number_of_open_complaints']"
   ]
  },
  {
   "cell_type": "code",
   "execution_count": 21,
   "id": "b3bdb3e2",
   "metadata": {},
   "outputs": [
    {
     "data": {
      "text/plain": [
       "0      16061.0\n",
       "1      79487.0\n",
       "2      54230.0\n",
       "3      71210.0\n",
       "4      94903.0\n",
       "        ...   \n",
       "991    63513.0\n",
       "992    58161.0\n",
       "993    83640.0\n",
       "994        0.0\n",
       "995        0.0\n",
       "Name: income, Length: 996, dtype: float64"
      ]
     },
     "execution_count": 21,
     "metadata": {},
     "output_type": "execute_result"
    }
   ],
   "source": [
    "#The data types of many columns in the dataset appear to be incorrect. \n",
    "#This could impact the accuracy of our analysis. To ensure accurate analysis, \n",
    "#we need to correct the data types of these columns. \n",
    "#Please update the data types of the columns as appropriate. \n",
    "#Your code here\n",
    "\n",
    "df['income'].unique\n",
    "df['income'] = df['income'].astype(float)\n",
    "df['income']\n",
    "#Customer lifetime value should be numeric"
   ]
  },
  {
   "cell_type": "code",
   "execution_count": 22,
   "id": "27b9862b",
   "metadata": {},
   "outputs": [
    {
     "data": {
      "text/plain": [
       "vehicle_class\n",
       "Four-Door Car    519\n",
       "Two-Door Car     211\n",
       "SUV              174\n",
       "Sports Car        55\n",
       "Luxury SUV        21\n",
       "Luxury Car        16\n",
       "Name: count, dtype: int64"
      ]
     },
     "execution_count": 22,
     "metadata": {},
     "output_type": "execute_result"
    }
   ],
   "source": [
    "df[['vehicle_class']].value_counts()"
   ]
  },
  {
   "cell_type": "code",
   "execution_count": 23,
   "id": "8195c764",
   "metadata": {},
   "outputs": [],
   "source": [
    "car_mapping = {\n",
    "    'Four-Door Car': 'Four-Door Car',\n",
    "    'Two-Door Car': 'Two-Door Car',\n",
    "    'SUV': 'SUV',\n",
    "    'Sports Car': 'Luxury',\n",
    "    'Luxury SUV': 'Luxury',\n",
    "    'Luxury Car': 'Luxury'\n",
    "}"
   ]
  },
  {
   "cell_type": "code",
   "execution_count": 24,
   "id": "34322960",
   "metadata": {},
   "outputs": [
    {
     "data": {
      "text/plain": [
       "vehicle_class\n",
       "Four-Door Car    519\n",
       "Two-Door Car     211\n",
       "SUV              174\n",
       "Luxury            92\n",
       "Name: count, dtype: int64"
      ]
     },
     "execution_count": 24,
     "metadata": {},
     "output_type": "execute_result"
    }
   ],
   "source": [
    "df['vehicle_class'] = df['vehicle_class'].map(car_mapping)\n",
    "df[['vehicle_class']].value_counts()"
   ]
  },
  {
   "cell_type": "code",
   "execution_count": 25,
   "id": "161459e1",
   "metadata": {},
   "outputs": [
    {
     "data": {
      "text/plain": [
       "customer                     False\n",
       "gender                        True\n",
       "education                    False\n",
       "customer_lifetime_value       True\n",
       "income                       False\n",
       "monthly_premium_auto         False\n",
       "number_of_open_complaints    False\n",
       "total_claim_amount           False\n",
       "policy_type                  False\n",
       "vehicle_class                False\n",
       "dtype: bool"
      ]
     },
     "execution_count": 25,
     "metadata": {},
     "output_type": "execute_result"
    }
   ],
   "source": [
    "df.isna().any()"
   ]
  },
  {
   "cell_type": "code",
   "execution_count": 26,
   "id": "de8301a6",
   "metadata": {},
   "outputs": [
    {
     "data": {
      "text/plain": [
       "customer                     0\n",
       "gender                       6\n",
       "education                    0\n",
       "customer_lifetime_value      4\n",
       "income                       0\n",
       "monthly_premium_auto         0\n",
       "number_of_open_complaints    0\n",
       "total_claim_amount           0\n",
       "policy_type                  0\n",
       "vehicle_class                0\n",
       "dtype: int64"
      ]
     },
     "execution_count": 26,
     "metadata": {},
     "output_type": "execute_result"
    }
   ],
   "source": [
    "df.isna().sum()"
   ]
  },
  {
   "cell_type": "code",
   "execution_count": 27,
   "id": "48930a2b",
   "metadata": {},
   "outputs": [
    {
     "data": {
      "text/plain": [
       "0"
      ]
     },
     "execution_count": 27,
     "metadata": {},
     "output_type": "execute_result"
    }
   ],
   "source": [
    "gender_mode = df['gender'].mode()[0]\n",
    "df['gender'].fillna(gender_mode, inplace=True)\n",
    "df['gender'].isna().sum()"
   ]
  },
  {
   "cell_type": "code",
   "execution_count": 28,
   "id": "49b349bf",
   "metadata": {},
   "outputs": [
    {
     "data": {
      "text/plain": [
       "0"
      ]
     },
     "execution_count": 28,
     "metadata": {},
     "output_type": "execute_result"
    }
   ],
   "source": [
    "customer_lifetime_value_mean = df['customer_lifetime_value'].mean()\n",
    "df['customer_lifetime_value'].fillna(customer_lifetime_value_mean, inplace=True)\n",
    "df['customer_lifetime_value'].isna().sum()"
   ]
  },
  {
   "cell_type": "code",
   "execution_count": 29,
   "id": "d19ef47a",
   "metadata": {},
   "outputs": [],
   "source": [
    "new_df = df.drop_duplicates().reset_index(drop=True)"
   ]
  },
  {
   "cell_type": "code",
   "execution_count": 30,
   "id": "45f3ea6b",
   "metadata": {},
   "outputs": [
    {
     "name": "stdout",
     "output_type": "stream",
     "text": [
      "<class 'pandas.core.frame.DataFrame'>\n",
      "RangeIndex: 996 entries, 0 to 995\n",
      "Data columns (total 10 columns):\n",
      " #   Column                     Non-Null Count  Dtype  \n",
      "---  ------                     --------------  -----  \n",
      " 0   customer                   996 non-null    object \n",
      " 1   gender                     996 non-null    object \n",
      " 2   education                  996 non-null    object \n",
      " 3   customer_lifetime_value    996 non-null    float64\n",
      " 4   income                     996 non-null    float64\n",
      " 5   monthly_premium_auto       996 non-null    int64  \n",
      " 6   number_of_open_complaints  996 non-null    int64  \n",
      " 7   total_claim_amount         996 non-null    float64\n",
      " 8   policy_type                996 non-null    object \n",
      " 9   vehicle_class              996 non-null    object \n",
      "dtypes: float64(3), int64(2), object(5)\n",
      "memory usage: 77.9+ KB\n"
     ]
    }
   ],
   "source": [
    "new_df.info()"
   ]
  },
  {
   "cell_type": "code",
   "execution_count": 32,
   "id": "bcf323b4",
   "metadata": {},
   "outputs": [
    {
     "ename": "AttributeError",
     "evalue": "'DataFrame' object has no attribute 'column'",
     "output_type": "error",
     "traceback": [
      "\u001b[0;31m---------------------------------------------------------------------------\u001b[0m",
      "\u001b[0;31mAttributeError\u001b[0m                            Traceback (most recent call last)",
      "\u001b[0;32m/var/folders/23/ykjhg9v57tn3wfmhgxtgj1s80000gn/T/ipykernel_7938/1875129712.py\u001b[0m in \u001b[0;36m?\u001b[0;34m()\u001b[0m\n\u001b[0;32m----> 1\u001b[0;31m \u001b[0mnew_df\u001b[0m\u001b[0;34m.\u001b[0m\u001b[0mcolumn\u001b[0m\u001b[0;34m(\u001b[0m\u001b[0;34m)\u001b[0m\u001b[0;34m\u001b[0m\u001b[0;34m\u001b[0m\u001b[0m\n\u001b[0m",
      "\u001b[0;32m~/anaconda3/lib/python3.11/site-packages/pandas/core/generic.py\u001b[0m in \u001b[0;36m?\u001b[0;34m(self, name)\u001b[0m\n\u001b[1;32m   6200\u001b[0m             \u001b[0;32mand\u001b[0m \u001b[0mname\u001b[0m \u001b[0;32mnot\u001b[0m \u001b[0;32min\u001b[0m \u001b[0mself\u001b[0m\u001b[0;34m.\u001b[0m\u001b[0m_accessors\u001b[0m\u001b[0;34m\u001b[0m\u001b[0;34m\u001b[0m\u001b[0m\n\u001b[1;32m   6201\u001b[0m             \u001b[0;32mand\u001b[0m \u001b[0mself\u001b[0m\u001b[0;34m.\u001b[0m\u001b[0m_info_axis\u001b[0m\u001b[0;34m.\u001b[0m\u001b[0m_can_hold_identifiers_and_holds_name\u001b[0m\u001b[0;34m(\u001b[0m\u001b[0mname\u001b[0m\u001b[0;34m)\u001b[0m\u001b[0;34m\u001b[0m\u001b[0;34m\u001b[0m\u001b[0m\n\u001b[1;32m   6202\u001b[0m         ):\n\u001b[1;32m   6203\u001b[0m             \u001b[0;32mreturn\u001b[0m \u001b[0mself\u001b[0m\u001b[0;34m[\u001b[0m\u001b[0mname\u001b[0m\u001b[0;34m]\u001b[0m\u001b[0;34m\u001b[0m\u001b[0;34m\u001b[0m\u001b[0m\n\u001b[0;32m-> 6204\u001b[0;31m         \u001b[0;32mreturn\u001b[0m \u001b[0mobject\u001b[0m\u001b[0;34m.\u001b[0m\u001b[0m__getattribute__\u001b[0m\u001b[0;34m(\u001b[0m\u001b[0mself\u001b[0m\u001b[0;34m,\u001b[0m \u001b[0mname\u001b[0m\u001b[0;34m)\u001b[0m\u001b[0;34m\u001b[0m\u001b[0;34m\u001b[0m\u001b[0m\n\u001b[0m",
      "\u001b[0;31mAttributeError\u001b[0m: 'DataFrame' object has no attribute 'column'"
     ]
    }
   ],
   "source": []
  },
  {
   "cell_type": "code",
   "execution_count": null,
   "id": "c4524743",
   "metadata": {},
   "outputs": [],
   "source": [
    "new_df.to_csv('insurance 2(cleaned and formatted).csv', index = False)"
   ]
  },
  {
   "cell_type": "code",
   "execution_count": null,
   "id": "e7d666b4",
   "metadata": {
    "scrolled": false
   },
   "outputs": [],
   "source": [
    "df['vehicle_class'].unique()"
   ]
  },
  {
   "cell_type": "code",
   "execution_count": 33,
   "id": "b12fd76b",
   "metadata": {},
   "outputs": [
    {
     "data": {
      "text/plain": [
       "Index(['customer', 'gender', 'education', 'customer_lifetime_value', 'income',\n",
       "       'monthly_premium_auto', 'number_of_open_complaints',\n",
       "       'total_claim_amount', 'policy_type', 'vehicle_class'],\n",
       "      dtype='object')"
      ]
     },
     "execution_count": 33,
     "metadata": {},
     "output_type": "execute_result"
    }
   ],
   "source": [
    "new_df.columns"
   ]
  },
  {
   "cell_type": "code",
   "execution_count": null,
   "id": "de2c7d6e",
   "metadata": {},
   "outputs": [],
   "source": []
  }
 ],
 "metadata": {
  "kernelspec": {
   "display_name": "Python 3 (ipykernel)",
   "language": "python",
   "name": "python3"
  },
  "language_info": {
   "codemirror_mode": {
    "name": "ipython",
    "version": 3
   },
   "file_extension": ".py",
   "mimetype": "text/x-python",
   "name": "python",
   "nbconvert_exporter": "python",
   "pygments_lexer": "ipython3",
   "version": "3.11.5"
  }
 },
 "nbformat": 4,
 "nbformat_minor": 5
}
