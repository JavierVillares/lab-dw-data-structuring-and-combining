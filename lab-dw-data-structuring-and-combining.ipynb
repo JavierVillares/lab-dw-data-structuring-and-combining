{
 "cells": [
  {
   "cell_type": "markdown",
   "id": "25d7736c-ba17-4aff-b6bb-66eba20fbf4e",
   "metadata": {
    "id": "25d7736c-ba17-4aff-b6bb-66eba20fbf4e"
   },
   "source": [
    "# Lab | Data Structuring and Combining Data"
   ]
  },
  {
   "cell_type": "markdown",
   "id": "a2cdfc70-44c8-478c-81e7-2bc43fdf4986",
   "metadata": {
    "id": "a2cdfc70-44c8-478c-81e7-2bc43fdf4986"
   },
   "source": [
    "## Challenge 1: Combining & Cleaning Data\n",
    "\n",
    "In this challenge, we will be working with the customer data from an insurance company, as we did in the two previous labs. The data can be found here:\n",
    "- https://raw.githubusercontent.com/data-bootcamp-v4/data/main/file1.csv\n",
    "\n",
    "But this time, we got new data, which can be found in the following 2 CSV files located at the links below.\n",
    "\n",
    "- https://raw.githubusercontent.com/data-bootcamp-v4/data/main/file2.csv\n",
    "- https://raw.githubusercontent.com/data-bootcamp-v4/data/main/file3.csv\n",
    "\n",
    "Note that you'll need to clean and format the new data.\n",
    "\n",
    "Observation:\n",
    "- One option is to first combine the three datasets and then apply the cleaning function to the new combined dataset\n",
    "- Another option would be to read the clean file you saved in the previous lab, and just clean the two new files and concatenate the three clean datasets"
   ]
  },
  {
   "cell_type": "code",
   "execution_count": 34,
   "id": "492d06e3-92c7-4105-ac72-536db98d3244",
   "metadata": {
    "id": "492d06e3-92c7-4105-ac72-536db98d3244"
   },
   "outputs": [],
   "source": [
    "# Your code goes here\n",
    "import pandas as pd\n",
    "import seaborn as sns\n",
    "\n",
    "url_1 = '/Users/javi/Desktop/Ironhack/Entregas de github/lab-dw-data-structuring-and-combining/insurance (cleaned and formatted).csv'\n",
    "url_2 = '/Users/javi/Desktop/Ironhack/Entregas de github/lab-dw-data-structuring-and-combining/insurance 2(cleaned and formatted).csv'\n",
    "url_3 = '/Users/javi/Desktop/Ironhack/Entregas de github/lab-dw-data-structuring-and-combining/insurance 3(cleaned and formatted).csv'\n",
    "\n",
    "df1 = pd.read_csv(url_1)\n",
    "df2 = pd.read_csv(url_2)\n",
    "df3 = pd.read_csv(url_3)"
   ]
  },
  {
   "cell_type": "code",
   "execution_count": 35,
   "id": "b6bef641",
   "metadata": {},
   "outputs": [
    {
     "name": "stdout",
     "output_type": "stream",
     "text": [
      "(1071, 11)\n",
      "(996, 10)\n",
      "(7070, 11)\n"
     ]
    }
   ],
   "source": [
    "print(df1.shape)\n",
    "print(df2.shape)\n",
    "print(df3.shape)"
   ]
  },
  {
   "cell_type": "code",
   "execution_count": 36,
   "id": "3279474b",
   "metadata": {},
   "outputs": [],
   "source": [
    "concatenated_df = pd.concat([df1, df2, df3], ignore_index=True)"
   ]
  },
  {
   "cell_type": "code",
   "execution_count": 37,
   "id": "3d32c73f",
   "metadata": {},
   "outputs": [
    {
     "data": {
      "text/plain": [
       "(9137, 11)"
      ]
     },
     "execution_count": 37,
     "metadata": {},
     "output_type": "execute_result"
    }
   ],
   "source": [
    "concatenated_df.shape"
   ]
  },
  {
   "cell_type": "code",
   "execution_count": 38,
   "id": "7f9fd1b3",
   "metadata": {},
   "outputs": [
    {
     "data": {
      "text/html": [
       "<div>\n",
       "<style scoped>\n",
       "    .dataframe tbody tr th:only-of-type {\n",
       "        vertical-align: middle;\n",
       "    }\n",
       "\n",
       "    .dataframe tbody tr th {\n",
       "        vertical-align: top;\n",
       "    }\n",
       "\n",
       "    .dataframe thead th {\n",
       "        text-align: right;\n",
       "    }\n",
       "</style>\n",
       "<table border=\"1\" class=\"dataframe\">\n",
       "  <thead>\n",
       "    <tr style=\"text-align: right;\">\n",
       "      <th></th>\n",
       "      <th>customer</th>\n",
       "      <th>state</th>\n",
       "      <th>gender</th>\n",
       "      <th>education</th>\n",
       "      <th>customer_lifetime_value</th>\n",
       "      <th>income</th>\n",
       "      <th>monthly_premium_auto</th>\n",
       "      <th>number_of_open_complaints</th>\n",
       "      <th>policy_type</th>\n",
       "      <th>vehicle_class</th>\n",
       "      <th>total_claim_amount</th>\n",
       "    </tr>\n",
       "  </thead>\n",
       "  <tbody>\n",
       "    <tr>\n",
       "      <th>0</th>\n",
       "      <td>RB50392</td>\n",
       "      <td>Washington</td>\n",
       "      <td>Female</td>\n",
       "      <td>Master</td>\n",
       "      <td>7.936903e+05</td>\n",
       "      <td>0.0</td>\n",
       "      <td>1000.0</td>\n",
       "      <td>0</td>\n",
       "      <td>Personal Auto</td>\n",
       "      <td>Four-Door Car</td>\n",
       "      <td>2.704934</td>\n",
       "    </tr>\n",
       "    <tr>\n",
       "      <th>1</th>\n",
       "      <td>QZ44356</td>\n",
       "      <td>Arizona</td>\n",
       "      <td>Female</td>\n",
       "      <td>Bachelor</td>\n",
       "      <td>6.979536e+05</td>\n",
       "      <td>0.0</td>\n",
       "      <td>94.0</td>\n",
       "      <td>0</td>\n",
       "      <td>Personal Auto</td>\n",
       "      <td>Four-Door Car</td>\n",
       "      <td>1131.464935</td>\n",
       "    </tr>\n",
       "    <tr>\n",
       "      <th>2</th>\n",
       "      <td>AI49188</td>\n",
       "      <td>Nevada</td>\n",
       "      <td>Female</td>\n",
       "      <td>Bachelor</td>\n",
       "      <td>1.288743e+06</td>\n",
       "      <td>48767.0</td>\n",
       "      <td>108.0</td>\n",
       "      <td>0</td>\n",
       "      <td>Personal Auto</td>\n",
       "      <td>Two-Door Car</td>\n",
       "      <td>566.472247</td>\n",
       "    </tr>\n",
       "    <tr>\n",
       "      <th>3</th>\n",
       "      <td>WW63253</td>\n",
       "      <td>California</td>\n",
       "      <td>Male</td>\n",
       "      <td>Bachelor</td>\n",
       "      <td>7.645862e+05</td>\n",
       "      <td>0.0</td>\n",
       "      <td>106.0</td>\n",
       "      <td>0</td>\n",
       "      <td>Corporate Auto</td>\n",
       "      <td>SUV</td>\n",
       "      <td>529.881344</td>\n",
       "    </tr>\n",
       "    <tr>\n",
       "      <th>4</th>\n",
       "      <td>GA49547</td>\n",
       "      <td>Washington</td>\n",
       "      <td>Male</td>\n",
       "      <td>High School or Below</td>\n",
       "      <td>5.363077e+05</td>\n",
       "      <td>36357.0</td>\n",
       "      <td>68.0</td>\n",
       "      <td>0</td>\n",
       "      <td>Personal Auto</td>\n",
       "      <td>Four-Door Car</td>\n",
       "      <td>17.269323</td>\n",
       "    </tr>\n",
       "    <tr>\n",
       "      <th>...</th>\n",
       "      <td>...</td>\n",
       "      <td>...</td>\n",
       "      <td>...</td>\n",
       "      <td>...</td>\n",
       "      <td>...</td>\n",
       "      <td>...</td>\n",
       "      <td>...</td>\n",
       "      <td>...</td>\n",
       "      <td>...</td>\n",
       "      <td>...</td>\n",
       "      <td>...</td>\n",
       "    </tr>\n",
       "    <tr>\n",
       "      <th>9132</th>\n",
       "      <td>LA72316</td>\n",
       "      <td>California</td>\n",
       "      <td>Male</td>\n",
       "      <td>Bachelor</td>\n",
       "      <td>2.340599e+04</td>\n",
       "      <td>71941.0</td>\n",
       "      <td>73.0</td>\n",
       "      <td>0</td>\n",
       "      <td>Personal Auto</td>\n",
       "      <td>Four-Door Car</td>\n",
       "      <td>198.234764</td>\n",
       "    </tr>\n",
       "    <tr>\n",
       "      <th>9133</th>\n",
       "      <td>PK87824</td>\n",
       "      <td>California</td>\n",
       "      <td>Female</td>\n",
       "      <td>College</td>\n",
       "      <td>3.096511e+03</td>\n",
       "      <td>21604.0</td>\n",
       "      <td>79.0</td>\n",
       "      <td>0</td>\n",
       "      <td>Corporate Auto</td>\n",
       "      <td>Four-Door Car</td>\n",
       "      <td>379.200000</td>\n",
       "    </tr>\n",
       "    <tr>\n",
       "      <th>9134</th>\n",
       "      <td>TD14365</td>\n",
       "      <td>California</td>\n",
       "      <td>Male</td>\n",
       "      <td>Bachelor</td>\n",
       "      <td>8.163890e+03</td>\n",
       "      <td>0.0</td>\n",
       "      <td>85.0</td>\n",
       "      <td>3</td>\n",
       "      <td>Corporate Auto</td>\n",
       "      <td>Four-Door Car</td>\n",
       "      <td>790.784983</td>\n",
       "    </tr>\n",
       "    <tr>\n",
       "      <th>9135</th>\n",
       "      <td>UP19263</td>\n",
       "      <td>California</td>\n",
       "      <td>Male</td>\n",
       "      <td>College</td>\n",
       "      <td>7.524442e+03</td>\n",
       "      <td>21941.0</td>\n",
       "      <td>96.0</td>\n",
       "      <td>0</td>\n",
       "      <td>Personal Auto</td>\n",
       "      <td>Four-Door Car</td>\n",
       "      <td>691.200000</td>\n",
       "    </tr>\n",
       "    <tr>\n",
       "      <th>9136</th>\n",
       "      <td>Y167826</td>\n",
       "      <td>California</td>\n",
       "      <td>Male</td>\n",
       "      <td>College</td>\n",
       "      <td>2.611837e+03</td>\n",
       "      <td>0.0</td>\n",
       "      <td>77.0</td>\n",
       "      <td>0</td>\n",
       "      <td>Corporate Auto</td>\n",
       "      <td>Two-Door Car</td>\n",
       "      <td>369.600000</td>\n",
       "    </tr>\n",
       "  </tbody>\n",
       "</table>\n",
       "<p>9137 rows × 11 columns</p>\n",
       "</div>"
      ],
      "text/plain": [
       "     customer       state  gender             education  \\\n",
       "0     RB50392  Washington  Female                Master   \n",
       "1     QZ44356     Arizona  Female              Bachelor   \n",
       "2     AI49188      Nevada  Female              Bachelor   \n",
       "3     WW63253  California    Male              Bachelor   \n",
       "4     GA49547  Washington    Male  High School or Below   \n",
       "...       ...         ...     ...                   ...   \n",
       "9132  LA72316  California    Male              Bachelor   \n",
       "9133  PK87824  California  Female               College   \n",
       "9134  TD14365  California    Male              Bachelor   \n",
       "9135  UP19263  California    Male               College   \n",
       "9136  Y167826  California    Male               College   \n",
       "\n",
       "      customer_lifetime_value   income  monthly_premium_auto  \\\n",
       "0                7.936903e+05      0.0                1000.0   \n",
       "1                6.979536e+05      0.0                  94.0   \n",
       "2                1.288743e+06  48767.0                 108.0   \n",
       "3                7.645862e+05      0.0                 106.0   \n",
       "4                5.363077e+05  36357.0                  68.0   \n",
       "...                       ...      ...                   ...   \n",
       "9132             2.340599e+04  71941.0                  73.0   \n",
       "9133             3.096511e+03  21604.0                  79.0   \n",
       "9134             8.163890e+03      0.0                  85.0   \n",
       "9135             7.524442e+03  21941.0                  96.0   \n",
       "9136             2.611837e+03      0.0                  77.0   \n",
       "\n",
       "      number_of_open_complaints     policy_type  vehicle_class  \\\n",
       "0                             0   Personal Auto  Four-Door Car   \n",
       "1                             0   Personal Auto  Four-Door Car   \n",
       "2                             0   Personal Auto   Two-Door Car   \n",
       "3                             0  Corporate Auto            SUV   \n",
       "4                             0   Personal Auto  Four-Door Car   \n",
       "...                         ...             ...            ...   \n",
       "9132                          0   Personal Auto  Four-Door Car   \n",
       "9133                          0  Corporate Auto  Four-Door Car   \n",
       "9134                          3  Corporate Auto  Four-Door Car   \n",
       "9135                          0   Personal Auto  Four-Door Car   \n",
       "9136                          0  Corporate Auto   Two-Door Car   \n",
       "\n",
       "      total_claim_amount  \n",
       "0               2.704934  \n",
       "1            1131.464935  \n",
       "2             566.472247  \n",
       "3             529.881344  \n",
       "4              17.269323  \n",
       "...                  ...  \n",
       "9132          198.234764  \n",
       "9133          379.200000  \n",
       "9134          790.784983  \n",
       "9135          691.200000  \n",
       "9136          369.600000  \n",
       "\n",
       "[9137 rows x 11 columns]"
      ]
     },
     "execution_count": 38,
     "metadata": {},
     "output_type": "execute_result"
    }
   ],
   "source": [
    "# Check for duplicates in concatenated_df\n",
    "duplicates = concatenated_df[concatenated_df.duplicated()]\n",
    "\n",
    "# Remove duplicates from concatenated_df\n",
    "concatenated_df = concatenated_df.drop_duplicates()\n",
    "concatenated_df"
   ]
  },
  {
   "cell_type": "code",
   "execution_count": 39,
   "id": "ed2d4772",
   "metadata": {},
   "outputs": [
    {
     "data": {
      "text/plain": [
       "(9137, 11)"
      ]
     },
     "execution_count": 39,
     "metadata": {},
     "output_type": "execute_result"
    }
   ],
   "source": [
    "concatenated_df.shape"
   ]
  },
  {
   "cell_type": "markdown",
   "id": "31b8a9e7-7db9-4604-991b-ef6771603e57",
   "metadata": {
    "id": "31b8a9e7-7db9-4604-991b-ef6771603e57"
   },
   "source": [
    "# Challenge 2: Structuring Data"
   ]
  },
  {
   "cell_type": "markdown",
   "id": "a877fd6d-7a0c-46d2-9657-f25036e4ca4b",
   "metadata": {
    "id": "a877fd6d-7a0c-46d2-9657-f25036e4ca4b"
   },
   "source": [
    "In this challenge, we will continue to work with customer data from an insurance company, but we will use a dataset with more columns, called marketing_customer_analysis.csv, which can be found at the following link:\n",
    "\n",
    "https://raw.githubusercontent.com/data-bootcamp-v4/data/main/marketing_customer_analysis_clean.csv\n",
    "\n",
    "This dataset contains information such as customer demographics, policy details, vehicle information, and the customer's response to the last marketing campaign. Our goal is to explore and analyze this data by performing data cleaning, formatting, and structuring."
   ]
  },
  {
   "cell_type": "code",
   "execution_count": 40,
   "id": "aa10d9b0-1c27-4d3f-a8e4-db6ab73bfd26",
   "metadata": {
    "id": "aa10d9b0-1c27-4d3f-a8e4-db6ab73bfd26"
   },
   "outputs": [],
   "source": [
    "url4 = 'https://raw.githubusercontent.com/data-bootcamp-v4/data/main/marketing_customer_analysis_clean.csv'# Your code goes here"
   ]
  },
  {
   "cell_type": "code",
   "execution_count": 41,
   "id": "9ba05451",
   "metadata": {},
   "outputs": [],
   "source": [
    "df = pd.read_csv(url4)\n",
    "df.drop(df.columns[[0]], axis=1, inplace=True)"
   ]
  },
  {
   "cell_type": "code",
   "execution_count": 42,
   "id": "a9b533f5",
   "metadata": {},
   "outputs": [
    {
     "data": {
      "text/plain": [
       "Index(['customer', 'state', 'customer_lifetime_value', 'response', 'coverage',\n",
       "       'education', 'effective_to_date', 'employmentstatus', 'gender',\n",
       "       'income', 'location_code', 'marital_status', 'monthly_premium_auto',\n",
       "       'months_since_last_claim', 'months_since_policy_inception',\n",
       "       'number_of_open_complaints', 'number_of_policies', 'policy_type',\n",
       "       'policy', 'renew_offer_type', 'sales_channel', 'total_claim_amount',\n",
       "       'vehicle_class', 'vehicle_size', 'vehicle_type', 'month'],\n",
       "      dtype='object')"
      ]
     },
     "execution_count": 42,
     "metadata": {},
     "output_type": "execute_result"
    }
   ],
   "source": [
    "df.columns"
   ]
  },
  {
   "cell_type": "code",
   "execution_count": 43,
   "id": "d3a46f81",
   "metadata": {},
   "outputs": [
    {
     "data": {
      "text/plain": [
       "customer                         False\n",
       "state                            False\n",
       "customer_lifetime_value          False\n",
       "response                         False\n",
       "coverage                         False\n",
       "education                        False\n",
       "effective_to_date                False\n",
       "employmentstatus                 False\n",
       "gender                           False\n",
       "income                           False\n",
       "location_code                    False\n",
       "marital_status                   False\n",
       "monthly_premium_auto             False\n",
       "months_since_last_claim          False\n",
       "months_since_policy_inception    False\n",
       "number_of_open_complaints        False\n",
       "number_of_policies               False\n",
       "policy_type                      False\n",
       "policy                           False\n",
       "renew_offer_type                 False\n",
       "sales_channel                    False\n",
       "total_claim_amount               False\n",
       "vehicle_class                    False\n",
       "vehicle_size                     False\n",
       "vehicle_type                     False\n",
       "month                            False\n",
       "dtype: bool"
      ]
     },
     "execution_count": 43,
     "metadata": {},
     "output_type": "execute_result"
    }
   ],
   "source": [
    "df.isna().any()"
   ]
  },
  {
   "cell_type": "code",
   "execution_count": 44,
   "id": "961e4f6d",
   "metadata": {},
   "outputs": [
    {
     "data": {
      "text/plain": [
       "customer                         0\n",
       "state                            0\n",
       "customer_lifetime_value          0\n",
       "response                         0\n",
       "coverage                         0\n",
       "education                        0\n",
       "effective_to_date                0\n",
       "employmentstatus                 0\n",
       "gender                           0\n",
       "income                           0\n",
       "location_code                    0\n",
       "marital_status                   0\n",
       "monthly_premium_auto             0\n",
       "months_since_last_claim          0\n",
       "months_since_policy_inception    0\n",
       "number_of_open_complaints        0\n",
       "number_of_policies               0\n",
       "policy_type                      0\n",
       "policy                           0\n",
       "renew_offer_type                 0\n",
       "sales_channel                    0\n",
       "total_claim_amount               0\n",
       "vehicle_class                    0\n",
       "vehicle_size                     0\n",
       "vehicle_type                     0\n",
       "month                            0\n",
       "dtype: int64"
      ]
     },
     "execution_count": 44,
     "metadata": {},
     "output_type": "execute_result"
    }
   ],
   "source": [
    "df.isna().sum()"
   ]
  },
  {
   "cell_type": "code",
   "execution_count": 45,
   "id": "5888c565",
   "metadata": {},
   "outputs": [
    {
     "data": {
      "text/plain": [
       "443"
      ]
     },
     "execution_count": 45,
     "metadata": {},
     "output_type": "execute_result"
    }
   ],
   "source": [
    "df.duplicated().sum()"
   ]
  },
  {
   "cell_type": "code",
   "execution_count": 46,
   "id": "c54a758e",
   "metadata": {},
   "outputs": [],
   "source": [
    "df.drop_duplicates(inplace=True)"
   ]
  },
  {
   "cell_type": "code",
   "execution_count": 47,
   "id": "514811fe",
   "metadata": {},
   "outputs": [
    {
     "data": {
      "text/plain": [
       "0"
      ]
     },
     "execution_count": 47,
     "metadata": {},
     "output_type": "execute_result"
    }
   ],
   "source": [
    "df.duplicated().sum()"
   ]
  },
  {
   "cell_type": "code",
   "execution_count": 48,
   "id": "6b45eb33",
   "metadata": {},
   "outputs": [
    {
     "data": {
      "text/plain": [
       "gender\n",
       "F         5347\n",
       "M         5120\n",
       "Name: count, dtype: int64"
      ]
     },
     "execution_count": 48,
     "metadata": {},
     "output_type": "execute_result"
    }
   ],
   "source": [
    "df[['gender']].value_counts()"
   ]
  },
  {
   "cell_type": "code",
   "execution_count": 49,
   "id": "ab26c414",
   "metadata": {},
   "outputs": [],
   "source": [
    "gender_mapping = {\n",
    "    'F': 'Female',\n",
    "    'M': 'Male',\n",
    "}"
   ]
  },
  {
   "cell_type": "code",
   "execution_count": 50,
   "id": "e84e4c76",
   "metadata": {},
   "outputs": [
    {
     "data": {
      "text/plain": [
       "array(['Male', 'Female'], dtype=object)"
      ]
     },
     "execution_count": 50,
     "metadata": {},
     "output_type": "execute_result"
    }
   ],
   "source": [
    "df['gender'] = df['gender'].map(gender_mapping)\n",
    "df['gender'].unique()"
   ]
  },
  {
   "cell_type": "code",
   "execution_count": 51,
   "id": "96758ab0",
   "metadata": {},
   "outputs": [
    {
     "data": {
      "text/plain": [
       "employmentstatus\n",
       "Employed            6507\n",
       "Unemployed          2671\n",
       "Medical Leave        486\n",
       "Disabled             478\n",
       "Retired              325\n",
       "Name: count, dtype: int64"
      ]
     },
     "execution_count": 51,
     "metadata": {},
     "output_type": "execute_result"
    }
   ],
   "source": [
    "df[['employmentstatus']].value_counts()"
   ]
  },
  {
   "cell_type": "code",
   "execution_count": 52,
   "id": "f6c26ff9",
   "metadata": {},
   "outputs": [
    {
     "data": {
      "text/plain": [
       "vehicle_class\n",
       "Four-Door Car    5498\n",
       "Two-Door Car     2074\n",
       "SUV              1972\n",
       "Sports Car        537\n",
       "Luxury SUV        203\n",
       "Luxury Car        183\n",
       "Name: count, dtype: int64"
      ]
     },
     "execution_count": 52,
     "metadata": {},
     "output_type": "execute_result"
    }
   ],
   "source": [
    "df[['vehicle_class']].value_counts()"
   ]
  },
  {
   "cell_type": "code",
   "execution_count": 53,
   "id": "c192bd9a",
   "metadata": {},
   "outputs": [],
   "source": [
    "car_mapping = {\n",
    "    'Four-Door Car': 'Four-Door Car',\n",
    "    'Two-Door Car': 'Two-Door Car',\n",
    "    'SUV': 'SUV',\n",
    "    'Sports Car': 'Luxury',\n",
    "    'Luxury SUV': 'Luxury',\n",
    "    'Luxury Car': 'Luxury'\n",
    "}"
   ]
  },
  {
   "cell_type": "code",
   "execution_count": 54,
   "id": "68ac2abb",
   "metadata": {},
   "outputs": [
    {
     "data": {
      "text/plain": [
       "vehicle_class\n",
       "Four-Door Car    5498\n",
       "Two-Door Car     2074\n",
       "SUV              1972\n",
       "Luxury            923\n",
       "Name: count, dtype: int64"
      ]
     },
     "execution_count": 54,
     "metadata": {},
     "output_type": "execute_result"
    }
   ],
   "source": [
    "df['vehicle_class'] = df['vehicle_class'].map(car_mapping)\n",
    "df[['vehicle_class']].value_counts()"
   ]
  },
  {
   "cell_type": "code",
   "execution_count": 55,
   "id": "2575a545",
   "metadata": {},
   "outputs": [
    {
     "data": {
      "text/plain": [
       "vehicle_type\n",
       "A               10467\n",
       "Name: count, dtype: int64"
      ]
     },
     "execution_count": 55,
     "metadata": {},
     "output_type": "execute_result"
    }
   ],
   "source": [
    "df[['vehicle_type']].value_counts()"
   ]
  },
  {
   "cell_type": "code",
   "execution_count": 56,
   "id": "e42d5c11",
   "metadata": {},
   "outputs": [
    {
     "name": "stdout",
     "output_type": "stream",
     "text": [
      "<class 'pandas.core.frame.DataFrame'>\n",
      "Index: 10467 entries, 0 to 10909\n",
      "Data columns (total 26 columns):\n",
      " #   Column                         Non-Null Count  Dtype  \n",
      "---  ------                         --------------  -----  \n",
      " 0   customer                       10467 non-null  object \n",
      " 1   state                          10467 non-null  object \n",
      " 2   customer_lifetime_value        10467 non-null  float64\n",
      " 3   response                       10467 non-null  object \n",
      " 4   coverage                       10467 non-null  object \n",
      " 5   education                      10467 non-null  object \n",
      " 6   effective_to_date              10467 non-null  object \n",
      " 7   employmentstatus               10467 non-null  object \n",
      " 8   gender                         10467 non-null  object \n",
      " 9   income                         10467 non-null  int64  \n",
      " 10  location_code                  10467 non-null  object \n",
      " 11  marital_status                 10467 non-null  object \n",
      " 12  monthly_premium_auto           10467 non-null  int64  \n",
      " 13  months_since_last_claim        10467 non-null  float64\n",
      " 14  months_since_policy_inception  10467 non-null  int64  \n",
      " 15  number_of_open_complaints      10467 non-null  float64\n",
      " 16  number_of_policies             10467 non-null  int64  \n",
      " 17  policy_type                    10467 non-null  object \n",
      " 18  policy                         10467 non-null  object \n",
      " 19  renew_offer_type               10467 non-null  object \n",
      " 20  sales_channel                  10467 non-null  object \n",
      " 21  total_claim_amount             10467 non-null  float64\n",
      " 22  vehicle_class                  10467 non-null  object \n",
      " 23  vehicle_size                   10467 non-null  object \n",
      " 24  vehicle_type                   10467 non-null  object \n",
      " 25  month                          10467 non-null  int64  \n",
      "dtypes: float64(4), int64(5), object(17)\n",
      "memory usage: 2.2+ MB\n"
     ]
    }
   ],
   "source": [
    "df.info()"
   ]
  },
  {
   "cell_type": "code",
   "execution_count": 57,
   "id": "29aa7d10",
   "metadata": {},
   "outputs": [
    {
     "data": {
      "text/html": [
       "<div>\n",
       "<style scoped>\n",
       "    .dataframe tbody tr th:only-of-type {\n",
       "        vertical-align: middle;\n",
       "    }\n",
       "\n",
       "    .dataframe tbody tr th {\n",
       "        vertical-align: top;\n",
       "    }\n",
       "\n",
       "    .dataframe thead th {\n",
       "        text-align: right;\n",
       "    }\n",
       "</style>\n",
       "<table border=\"1\" class=\"dataframe\">\n",
       "  <thead>\n",
       "    <tr style=\"text-align: right;\">\n",
       "      <th></th>\n",
       "      <th>total_claim_amount</th>\n",
       "    </tr>\n",
       "    <tr>\n",
       "      <th>sales_channel</th>\n",
       "      <th></th>\n",
       "    </tr>\n",
       "  </thead>\n",
       "  <tbody>\n",
       "    <tr>\n",
       "      <th>Agent</th>\n",
       "      <td>1748923.49</td>\n",
       "    </tr>\n",
       "    <tr>\n",
       "      <th>Branch</th>\n",
       "      <td>1259333.44</td>\n",
       "    </tr>\n",
       "    <tr>\n",
       "      <th>Call Center</th>\n",
       "      <td>889094.77</td>\n",
       "    </tr>\n",
       "    <tr>\n",
       "      <th>Web</th>\n",
       "      <td>676658.10</td>\n",
       "    </tr>\n",
       "  </tbody>\n",
       "</table>\n",
       "</div>"
      ],
      "text/plain": [
       "               total_claim_amount\n",
       "sales_channel                    \n",
       "Agent                  1748923.49\n",
       "Branch                 1259333.44\n",
       "Call Center             889094.77\n",
       "Web                     676658.10"
      ]
     },
     "execution_count": 57,
     "metadata": {},
     "output_type": "execute_result"
    }
   ],
   "source": [
    "data = df[['sales_channel', 'total_claim_amount']]\n",
    "\n",
    "# Correct variable name used here: pivot_df\n",
    "pivot_df = pd.pivot_table(data, index='sales_channel', values='total_claim_amount', aggfunc='sum')\n",
    "\n",
    "# Corrected to use the correct variable name: pivot_df\n",
    "pivot_df['total_claim_amount'] = pivot_df['total_claim_amount'].round(2)\n",
    "pivot_df\n",
    "#Agents are the most profitable sales channel and it would be better to invest more in the agents. Although we don´t have enough data. It would be interesting the cost per dollar profit ratio. It doesn´t matter if the total claim amount amongst the agents it the highest if  the actual profit is lower than the rest. We don´t have sufficient data to see what happens. What would be interesting to see is either the sales tactics and analyze if its possible to apply those tactics amongst the other sales channels. Or evaluate if it wouls be better to divest some expenses from other channels to the agents. \n"
   ]
  },
  {
   "cell_type": "code",
   "execution_count": 58,
   "id": "e398b025",
   "metadata": {},
   "outputs": [
    {
     "name": "stdout",
     "output_type": "stream",
     "text": [
      "                             customer_lifetime_value\n",
      "gender education                                    \n",
      "Female Bachelor                          7913.452862\n",
      "       College                           7755.029922\n",
      "       Doctor                            7369.591923\n",
      "       High School or Below              8616.664839\n",
      "       Master                            8226.362324\n",
      "Male   Bachelor                          7713.303475\n",
      "       College                           8086.291367\n",
      "       Doctor                            7414.859039\n",
      "       High School or Below              8162.364059\n",
      "       Master                            8154.605652\n"
     ]
    }
   ],
   "source": [
    "data = df[['gender', 'education', 'customer_lifetime_value']]\n",
    "\n",
    "pivot_df = pd.pivot_table(data, index=['gender', 'education'], values='customer_lifetime_value', aggfunc='mean')\n",
    "print(pivot_df)\n",
    "#Highest lifetime values are customers who´s gender is female and have a lower level education. This doesn´t mean they are uneducated it most likely that those customers are just on average much younger and it means they have more time to take advantage of our insurance. \n",
    "#It would be better to invest more energy in getting and retaining younger customers and just around 55% preferably female who seem to live longer than men. "
   ]
  },
  {
   "cell_type": "code",
   "execution_count": 59,
   "id": "09262901",
   "metadata": {},
   "outputs": [
    {
     "name": "stdout",
     "output_type": "stream",
     "text": [
      "                             customer_lifetime_value\n",
      "gender education                                    \n",
      "Female Bachelor                          7913.452862\n",
      "       College                           7755.029922\n",
      "       Doctor                            7369.591923\n",
      "       High School or Below              8616.664839\n",
      "       Master                            8226.362324\n",
      "Male   Bachelor                          7713.303475\n",
      "       College                           8086.291367\n",
      "       Doctor                            7414.859039\n",
      "       High School or Below              8162.364059\n",
      "       Master                            8154.605652\n"
     ]
    }
   ],
   "source": [
    "data = df[['gender', 'education', 'customer_lifetime_value']]\n",
    "\n",
    "pivot_df = pd.pivot_table(data, index=['gender', 'education'], values='customer_lifetime_value', aggfunc='mean')\n",
    "print(pivot_df)\n",
    "#Highest lifetime values are customers who´s gender is female and have a lower level education. This doesn´t mean they are uneducated it most likely that those customers are just on average much younger and it means they have more time to take advantage of our insurance. \n",
    "#It would be better to invest more energy in getting and retaining younger customers and just around 55% preferably female who seem to live longer than men. "
   ]
  },
  {
   "cell_type": "code",
   "execution_count": 60,
   "id": "44a91e4c",
   "metadata": {},
   "outputs": [
    {
     "data": {
      "text/html": [
       "<div>\n",
       "<style scoped>\n",
       "    .dataframe tbody tr th:only-of-type {\n",
       "        vertical-align: middle;\n",
       "    }\n",
       "\n",
       "    .dataframe tbody tr th {\n",
       "        vertical-align: top;\n",
       "    }\n",
       "\n",
       "    .dataframe thead th {\n",
       "        text-align: right;\n",
       "    }\n",
       "</style>\n",
       "<table border=\"1\" class=\"dataframe\">\n",
       "  <thead>\n",
       "    <tr style=\"text-align: right;\">\n",
       "      <th></th>\n",
       "      <th></th>\n",
       "      <th>customer_lifetime_value</th>\n",
       "    </tr>\n",
       "    <tr>\n",
       "      <th>gender</th>\n",
       "      <th>education</th>\n",
       "      <th></th>\n",
       "    </tr>\n",
       "  </thead>\n",
       "  <tbody>\n",
       "    <tr>\n",
       "      <th rowspan=\"5\" valign=\"top\">Female</th>\n",
       "      <th>Bachelor</th>\n",
       "      <td>7913.452862</td>\n",
       "    </tr>\n",
       "    <tr>\n",
       "      <th>College</th>\n",
       "      <td>7755.029922</td>\n",
       "    </tr>\n",
       "    <tr>\n",
       "      <th>Doctor</th>\n",
       "      <td>7369.591923</td>\n",
       "    </tr>\n",
       "    <tr>\n",
       "      <th>High School or Below</th>\n",
       "      <td>8616.664839</td>\n",
       "    </tr>\n",
       "    <tr>\n",
       "      <th>Master</th>\n",
       "      <td>8226.362324</td>\n",
       "    </tr>\n",
       "    <tr>\n",
       "      <th rowspan=\"5\" valign=\"top\">Male</th>\n",
       "      <th>Bachelor</th>\n",
       "      <td>7713.303475</td>\n",
       "    </tr>\n",
       "    <tr>\n",
       "      <th>College</th>\n",
       "      <td>8086.291367</td>\n",
       "    </tr>\n",
       "    <tr>\n",
       "      <th>Doctor</th>\n",
       "      <td>7414.859039</td>\n",
       "    </tr>\n",
       "    <tr>\n",
       "      <th>High School or Below</th>\n",
       "      <td>8162.364059</td>\n",
       "    </tr>\n",
       "    <tr>\n",
       "      <th>Master</th>\n",
       "      <td>8154.605652</td>\n",
       "    </tr>\n",
       "  </tbody>\n",
       "</table>\n",
       "</div>"
      ],
      "text/plain": [
       "                             customer_lifetime_value\n",
       "gender education                                    \n",
       "Female Bachelor                          7913.452862\n",
       "       College                           7755.029922\n",
       "       Doctor                            7369.591923\n",
       "       High School or Below              8616.664839\n",
       "       Master                            8226.362324\n",
       "Male   Bachelor                          7713.303475\n",
       "       College                           8086.291367\n",
       "       Doctor                            7414.859039\n",
       "       High School or Below              8162.364059\n",
       "       Master                            8154.605652"
      ]
     },
     "execution_count": 60,
     "metadata": {},
     "output_type": "execute_result"
    }
   ],
   "source": [
    "pivot_df"
   ]
  },
  {
   "cell_type": "code",
   "execution_count": 61,
   "id": "9c528dfc",
   "metadata": {},
   "outputs": [
    {
     "name": "stdout",
     "output_type": "stream",
     "text": [
      "gender         Female       Male\n",
      "state                           \n",
      "Arizona     92.052147  91.876368\n",
      "California  92.993837  94.309241\n",
      "Nevada      95.570281  95.348195\n",
      "Oregon      93.557601  94.494935\n",
      "Washington  92.148796  92.067308\n"
     ]
    }
   ],
   "source": [
    "# Creating a pivot table to analyze average monthly premiums by state and gender\n",
    "pivot_table = df.pivot_table(values='monthly_premium_auto', index='state', columns='gender', aggfunc='mean')\n",
    "print(pivot_table)"
   ]
  },
  {
   "cell_type": "code",
   "execution_count": 62,
   "id": "543c4576",
   "metadata": {},
   "outputs": [
    {
     "name": "stderr",
     "output_type": "stream",
     "text": [
      "/Users/javi/anaconda3/lib/python3.11/site-packages/seaborn/_oldcore.py:1498: FutureWarning: is_categorical_dtype is deprecated and will be removed in a future version. Use isinstance(dtype, CategoricalDtype) instead\n",
      "  if pd.api.types.is_categorical_dtype(vector):\n",
      "/Users/javi/anaconda3/lib/python3.11/site-packages/seaborn/_oldcore.py:1498: FutureWarning: is_categorical_dtype is deprecated and will be removed in a future version. Use isinstance(dtype, CategoricalDtype) instead\n",
      "  if pd.api.types.is_categorical_dtype(vector):\n",
      "/Users/javi/anaconda3/lib/python3.11/site-packages/seaborn/_oldcore.py:1498: FutureWarning: is_categorical_dtype is deprecated and will be removed in a future version. Use isinstance(dtype, CategoricalDtype) instead\n",
      "  if pd.api.types.is_categorical_dtype(vector):\n",
      "/Users/javi/anaconda3/lib/python3.11/site-packages/seaborn/_oldcore.py:1498: FutureWarning: is_categorical_dtype is deprecated and will be removed in a future version. Use isinstance(dtype, CategoricalDtype) instead\n",
      "  if pd.api.types.is_categorical_dtype(vector):\n",
      "/Users/javi/anaconda3/lib/python3.11/site-packages/seaborn/_oldcore.py:1119: FutureWarning: use_inf_as_na option is deprecated and will be removed in a future version. Convert inf values to NaN before operating instead.\n",
      "  with pd.option_context('mode.use_inf_as_na', True):\n"
     ]
    },
    {
     "ename": "NameError",
     "evalue": "name 'plt' is not defined",
     "output_type": "error",
     "traceback": [
      "\u001b[0;31m---------------------------------------------------------------------------\u001b[0m",
      "\u001b[0;31mNameError\u001b[0m                                 Traceback (most recent call last)",
      "Cell \u001b[0;32mIn[62], line 3\u001b[0m\n\u001b[1;32m      1\u001b[0m \u001b[38;5;66;03m# Plotting the distribution of customer lifetime value\u001b[39;00m\n\u001b[1;32m      2\u001b[0m sns\u001b[38;5;241m.\u001b[39mhistplot(data\u001b[38;5;241m=\u001b[39mdf, x\u001b[38;5;241m=\u001b[39m\u001b[38;5;124m'\u001b[39m\u001b[38;5;124mcustomer_lifetime_value\u001b[39m\u001b[38;5;124m'\u001b[39m, hue\u001b[38;5;241m=\u001b[39m\u001b[38;5;124m'\u001b[39m\u001b[38;5;124mresponse\u001b[39m\u001b[38;5;124m'\u001b[39m, kde\u001b[38;5;241m=\u001b[39m\u001b[38;5;28;01mTrue\u001b[39;00m)\n\u001b[0;32m----> 3\u001b[0m plt\u001b[38;5;241m.\u001b[39mtitle(\u001b[38;5;124m'\u001b[39m\u001b[38;5;124mCustomer Lifetime Value Distribution by Response\u001b[39m\u001b[38;5;124m'\u001b[39m)\n\u001b[1;32m      4\u001b[0m plt\u001b[38;5;241m.\u001b[39mshow()\n",
      "\u001b[0;31mNameError\u001b[0m: name 'plt' is not defined"
     ]
    },
    {
     "data": {
      "image/png": "[encoded data removed]",
      "text/plain": [
       "<Figure size 640x480 with 1 Axes>"
      ]
     },
     "metadata": {},
     "output_type": "display_data"
    }
   ],
   "source": [
    "# Plotting the distribution of customer lifetime value\n",
    "sns.histplot(data=df, x='customer_lifetime_value', hue='response', kde=True)\n",
    "plt.title('Customer Lifetime Value Distribution by Response')\n",
    "plt.show()"
   ]
  },
  {
   "cell_type": "markdown",
   "id": "df35fd0d-513e-4e77-867e-429da10a9cc7",
   "metadata": {
    "id": "df35fd0d-513e-4e77-867e-429da10a9cc7"
   },
   "source": [
    "1. You work at the marketing department and you want to know which sales channel brought the most sales in terms of total revenue. Using pivot, create a summary table showing the total revenue for each sales channel (branch, call center, web, and mail).\n",
    "Round the total revenue to 2 decimal points.  Analyze the resulting table to draw insights."
   ]
  },
  {
   "cell_type": "markdown",
   "id": "640993b2-a291-436c-a34d-a551144f8196",
   "metadata": {
    "id": "640993b2-a291-436c-a34d-a551144f8196"
   },
   "source": [
    "2. Create a pivot table that shows the average customer lifetime value per gender and education level. Analyze the resulting table to draw insights."
   ]
  },
  {
   "cell_type": "markdown",
   "id": "32c7f2e5-3d90-43e5-be33-9781b6069198",
   "metadata": {
    "id": "32c7f2e5-3d90-43e5-be33-9781b6069198"
   },
   "source": [
    "## Bonus\n",
    "\n",
    "You work at the customer service department and you want to know which months had the highest number of complaints by policy type category. Create a summary table showing the number of complaints by policy type and month.\n",
    "Show it in a long format table."
   ]
  },
  {
   "cell_type": "code",
   "execution_count": null,
   "id": "e417fc02",
   "metadata": {},
   "outputs": [],
   "source": []
  },
  {
   "cell_type": "markdown",
   "id": "e3d09a8f-953c-448a-a5f8-2e5a8cca7291",
   "metadata": {
    "id": "e3d09a8f-953c-448a-a5f8-2e5a8cca7291"
   },
   "source": [
    "*In data analysis, a long format table is a way of structuring data in which each observation or measurement is stored in a separate row of the table. The key characteristic of a long format table is that each column represents a single variable, and each row represents a single observation of that variable.*\n",
    "\n",
    "*More information about long and wide format tables here: https://www.statology.org/long-vs-wide-data/*"
   ]
  },
  {
   "cell_type": "code",
   "execution_count": 28,
   "id": "3a069e0b-b400-470e-904d-d17582191be4",
   "metadata": {
    "id": "3a069e0b-b400-470e-904d-d17582191be4"
   },
   "outputs": [],
   "source": [
    "# Your code goes here"
   ]
  }
 ],
 "metadata": {
  "colab": {
   "provenance": []
  },
  "kernelspec": {
   "display_name": "Python 3 (ipykernel)",
   "language": "python",
   "name": "python3"
  },
  "language_info": {
   "codemirror_mode": {
    "name": "ipython",
    "version": 3
   },
   "file_extension": ".py",
   "mimetype": "text/x-python",
   "name": "python",
   "nbconvert_exporter": "python",
   "pygments_lexer": "ipython3",
   "version": "3.11.5"
  }
 },
 "nbformat": 4,
 "nbformat_minor": 5
}
